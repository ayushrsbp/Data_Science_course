{
 "cells": [
  {
   "cell_type": "code",
   "execution_count": 1,
   "id": "fde8ba98-8fdd-4f52-ab8b-c86c7eb20297",
   "metadata": {},
   "outputs": [],
   "source": [
    "import pandas as pd"
   ]
  },
  {
   "cell_type": "code",
   "execution_count": 4,
   "id": "117ad98a-7fde-4218-a7fe-adf58030133c",
   "metadata": {},
   "outputs": [
    {
     "name": "stdout",
     "output_type": "stream",
     "text": [
      "0     4\n",
      "1     8\n",
      "2    15\n",
      "3    16\n",
      "4    23\n",
      "5    42\n",
      "dtype: int64\n"
     ]
    }
   ],
   "source": [
    "#Q1.\n",
    "data = [4,8,15,16,23,42]\n",
    "series = pd.Series(data)\n",
    "print(series)"
   ]
  },
  {
   "cell_type": "code",
   "execution_count": 5,
   "id": "d2a28993-cf51-4ac9-b732-2db3bb081a2d",
   "metadata": {},
   "outputs": [
    {
     "data": {
      "text/plain": [
       "pandas.core.series.Series"
      ]
     },
     "execution_count": 5,
     "metadata": {},
     "output_type": "execute_result"
    }
   ],
   "source": [
    "type(series)"
   ]
  },
  {
   "cell_type": "code",
   "execution_count": 9,
   "id": "b0e4fed5-ff3d-4a57-9785-30c2af2d3078",
   "metadata": {},
   "outputs": [
    {
     "name": "stdout",
     "output_type": "stream",
     "text": [
      "0     Pari\n",
      "1    Ayush\n",
      "2    Gauri\n",
      "3       10\n",
      "4       48\n",
      "dtype: object\n"
     ]
    }
   ],
   "source": [
    "#Q2.\n",
    "data = ['Pari', 'Ayush', 'Gauri', 10, 48]\n",
    "series2 = pd.Series(data)\n",
    "print(series2)"
   ]
  },
  {
   "cell_type": "code",
   "execution_count": 10,
   "id": "1ca28237-53eb-417c-8953-7775c8e1004c",
   "metadata": {},
   "outputs": [
    {
     "name": "stdout",
     "output_type": "stream",
     "text": [
      "     Name  Age  Gender\n",
      "0   Alice   25  Female\n",
      "1     Bob   30    Male\n",
      "2  clarie   27  Female\n"
     ]
    }
   ],
   "source": [
    "#Q3.\n",
    "data = {'Name' : [\"Alice\", \"Bob\", \"clarie\"],\n",
    "        'Age' : [25, 30, 27],\n",
    "        'Gender' : ['Female', 'Male', 'Female']}\n",
    "df = pd.DataFrame(data)\n",
    "print(df)"
   ]
  },
  {
   "cell_type": "code",
   "execution_count": 13,
   "id": "97cce393-41fa-4a99-a0b1-94963acf1dd3",
   "metadata": {},
   "outputs": [
    {
     "name": "stdout",
     "output_type": "stream",
     "text": [
      "---DataFrame---\n",
      "    Name  Marks\n",
      "0  Ayush     95\n",
      "1   Pari     99\n",
      "2  Gauri     98\n",
      "---Series---\n",
      "0    95\n",
      "1    99\n",
      "2    98\n",
      "Name: Marks, dtype: int64\n"
     ]
    }
   ],
   "source": [
    "# Q4.\n",
    "# In pandas, a DataFrame is a two-dimensional, size-mutable, and heterogeneous tabular data structure. It consists of rows and columns. Each column in a DataFrame can contain different types of data (e.g., numbers, strings, dates).\n",
    "# On the other hand, a Series is a one-dimensional labeled array, similar to a column in a DataFrame.\n",
    "#Example :\n",
    "\n",
    "data = [\n",
    "    [\"Ayush\", 95],\n",
    "    [\"Pari\", 99],\n",
    "    [\"Gauri\", 98]\n",
    "]\n",
    "columns = ['Name', 'Marks']\n",
    "\n",
    "df = pd.DataFrame(data, columns = columns)\n",
    "print(\"---DataFrame---\")\n",
    "print(df)\n",
    "\n",
    "data1 = [95, 99, 98]\n",
    "series = pd.Series(data1, name = 'Marks')\n",
    "print(\"---Series---\")\n",
    "print(series)"
   ]
  },
  {
   "cell_type": "code",
   "execution_count": 22,
   "id": "8f5b2db3-49f3-478a-b1c2-18034721b502",
   "metadata": {},
   "outputs": [
    {
     "name": "stdout",
     "output_type": "stream",
     "text": [
      "    Name  Marks\n",
      "0  Ayush     95\n",
      "1   Pari     99\n",
      "2  Gauri     98\n",
      "\n",
      "\n",
      "0    95\n",
      "1    99\n",
      "2    98\n",
      "3    45\n",
      "4    35\n",
      "Name: Marks, dtype: int64\n",
      "\n",
      "\n",
      "      Name  Marks\n",
      "4     Ravi     35\n",
      "3  Shubham     45\n",
      "0    Ayush     95\n",
      "2    Gauri     98\n",
      "1     Pari     99\n",
      "\n",
      "\n"
     ]
    }
   ],
   "source": [
    "#Q5.\n",
    "# Some common functions that can be use to manipulate of data in a Pandas DataFrame are following:-\n",
    "    # 1.Filtering Data :\n",
    "    #     Filters rows based on a condition.\n",
    "    # Example :\n",
    "data = [\n",
    "    [\"Ayush\", 95],\n",
    "    [\"Pari\", 99],\n",
    "    [\"Gauri\", 98],\n",
    "    [\"Shubham\", 45],\n",
    "    [\"Ravi\", 35]\n",
    "]\n",
    "columns = ['Name', 'Marks']\n",
    "df = pd.DataFrame(data, columns = columns)\n",
    "df_filtered = df[df['Marks'] > 50]\n",
    "print(df_filtered)\n",
    "print(\"\\n\")\n",
    "\n",
    "    # 2. Selecting Columns\n",
    "    #     Select a or multiple columns.\n",
    "    #     Example :\n",
    "            \n",
    "selected_column = df['Marks']\n",
    "print(selected_column)\n",
    "print(\"\\n\")\n",
    "\n",
    "    # 3. Sorting Data\n",
    "    #     Sorts rows based on a column's values.\n",
    "    #     Example :\n",
    "            \n",
    "sorted_df = df.sort_values('Marks')\n",
    "print(sorted_df)\n",
    "print(\"\\n\")"
   ]
  },
  {
   "cell_type": "code",
   "execution_count": 23,
   "id": "2955efc6-edb2-461b-9056-ffcf8c4615a9",
   "metadata": {},
   "outputs": [],
   "source": [
    "#Q6.\n",
    "#Only DataFrame is mutuable."
   ]
  },
  {
   "cell_type": "code",
   "execution_count": 25,
   "id": "e429e845-10bc-4c31-a233-09732e5fa813",
   "metadata": {},
   "outputs": [
    {
     "name": "stdout",
     "output_type": "stream",
     "text": [
      "    Name  Marks\n",
      "0   Pari     99\n",
      "1  Ayush     95\n",
      "2  Gauri     98\n",
      "3   Rima     99\n"
     ]
    }
   ],
   "source": [
    "#Q7.\n",
    "name = pd.Series([\"Pari\", \"Ayush\", \"Gauri\", \"Rima\"])\n",
    "marks = pd.Series([99, 95, 98, 99])\n",
    "\n",
    "data = {\n",
    "    'Name' : name,\n",
    "    'Marks' : marks\n",
    "}\n",
    "df = pd.DataFrame(data)\n",
    "print(df)\n",
    "\n",
    "# In the above example, we created two series: 'name' and 'marks'. After that we created a DataFrame 'df' using those series as columns. 'df' contain two columns: 'name' and 'marks' with corresponding values from the series."
   ]
  },
  {
   "cell_type": "code",
   "execution_count": null,
   "id": "f4008d59-54d3-4cb2-a803-e00ff9a42e11",
   "metadata": {},
   "outputs": [],
   "source": []
  }
 ],
 "metadata": {
  "kernelspec": {
   "display_name": "Python 3 (ipykernel)",
   "language": "python",
   "name": "python3"
  },
  "language_info": {
   "codemirror_mode": {
    "name": "ipython",
    "version": 3
   },
   "file_extension": ".py",
   "mimetype": "text/x-python",
   "name": "python",
   "nbconvert_exporter": "python",
   "pygments_lexer": "ipython3",
   "version": "3.10.8"
  }
 },
 "nbformat": 4,
 "nbformat_minor": 5
}
