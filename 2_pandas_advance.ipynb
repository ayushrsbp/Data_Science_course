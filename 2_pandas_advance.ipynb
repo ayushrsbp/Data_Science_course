{
 "cells": [
  {
   "cell_type": "code",
   "execution_count": 1,
   "id": "c284a471-68b4-4422-842a-b1bd38b523d0",
   "metadata": {},
   "outputs": [],
   "source": [
    "import pandas as pd"
   ]
  },
  {
   "cell_type": "code",
   "execution_count": 2,
   "id": "7955d73a-4496-4ed6-b152-28503a843465",
   "metadata": {},
   "outputs": [],
   "source": [
    "data = {'Name' : [\"Ayush\", \"Pari\", \"Om\", \"Himanshu\"],\n",
    "        'Age' : [22, 18, 13, 23],\n",
    "        'Grade' : ['A', 'Ex', 'B', 'A'],\n",
    "        'Gender' : ['M', 'F', 'M', 'M']}\n",
    "dataframe = pd.DataFrame(data, index = None)\n",
    "dataframe.to_csv(\"detail.csv\", index = None)"
   ]
  },
  {
   "cell_type": "code",
   "execution_count": 3,
   "id": "18c7bbf4-7478-4373-8dd4-fb2fe382a695",
   "metadata": {},
   "outputs": [
    {
     "name": "stdout",
     "output_type": "stream",
     "text": [
      "       Name  Age Grade Gender\n",
      "0     Ayush   22     A      M\n",
      "1      Pari   18    Ex      F\n",
      "2        Om   13     B      M\n",
      "3  Himanshu   23     A      M\n",
      "----------------------------------\n",
      "    Name  Age Grade Gender\n",
      "0  Ayush   22     A      M\n",
      "1   Pari   18    Ex      F\n",
      "----------------------------------\n",
      "             Age\n",
      "count   4.000000\n",
      "mean   19.000000\n",
      "std     4.546061\n",
      "min    13.000000\n",
      "25%    16.750000\n",
      "50%    20.000000\n",
      "75%    22.250000\n",
      "max    23.000000\n",
      "----------------------------------\n",
      "       Name  Age Grade Gender\n",
      "2        Om   13     B      M\n",
      "3  Himanshu   23     A      M\n",
      "----------------------------------\n"
     ]
    },
    {
     "data": {
      "text/html": [
       "<div>\n",
       "<style scoped>\n",
       "    .dataframe tbody tr th:only-of-type {\n",
       "        vertical-align: middle;\n",
       "    }\n",
       "\n",
       "    .dataframe tbody tr th {\n",
       "        vertical-align: top;\n",
       "    }\n",
       "\n",
       "    .dataframe thead th {\n",
       "        text-align: right;\n",
       "    }\n",
       "</style>\n",
       "<table border=\"1\" class=\"dataframe\">\n",
       "  <thead>\n",
       "    <tr style=\"text-align: right;\">\n",
       "      <th></th>\n",
       "      <th>Name</th>\n",
       "      <th>Age</th>\n",
       "      <th>Grade</th>\n",
       "    </tr>\n",
       "  </thead>\n",
       "  <tbody>\n",
       "    <tr>\n",
       "      <th>0</th>\n",
       "      <td>Ayush</td>\n",
       "      <td>22</td>\n",
       "      <td>A</td>\n",
       "    </tr>\n",
       "    <tr>\n",
       "      <th>1</th>\n",
       "      <td>Pari</td>\n",
       "      <td>18</td>\n",
       "      <td>Ex</td>\n",
       "    </tr>\n",
       "    <tr>\n",
       "      <th>2</th>\n",
       "      <td>Om</td>\n",
       "      <td>13</td>\n",
       "      <td>B</td>\n",
       "    </tr>\n",
       "    <tr>\n",
       "      <th>3</th>\n",
       "      <td>Himanshu</td>\n",
       "      <td>23</td>\n",
       "      <td>A</td>\n",
       "    </tr>\n",
       "  </tbody>\n",
       "</table>\n",
       "</div>"
      ],
      "text/plain": [
       "       Name  Age Grade\n",
       "0     Ayush   22     A\n",
       "1      Pari   18    Ex\n",
       "2        Om   13     B\n",
       "3  Himanshu   23     A"
      ]
     },
     "execution_count": 3,
     "metadata": {},
     "output_type": "execute_result"
    }
   ],
   "source": [
    "#Q1.\n",
    "# Five functions of pandas library are following :\n",
    "#     1.read_csv() - This function is used to read data from a CSV file and create a DataFrame.\n",
    "#     2.head() - This function is used to display the first few rows of a DataFrame.\n",
    "#     3.describe() - This function generates descriptive statistics of numeric columns in a DataFrame.\n",
    "#     4.tail()- This function is used to display the first few rows of a DataFrame.\n",
    "#     5.drop() - This function is used to remove specified rows or columns from a DataFrame.\n",
    "df = pd.read_csv(\"detail.csv\")\n",
    "print(df)\n",
    "print(\"----------------------------------\")\n",
    "print(df.head(2))\n",
    "print(\"----------------------------------\")\n",
    "print(df.describe())\n",
    "print(\"----------------------------------\")\n",
    "print(df.tail(2))\n",
    "print(\"----------------------------------\")\n",
    "df.drop(columns = ['Gender'])"
   ]
  },
  {
   "cell_type": "code",
   "execution_count": 4,
   "id": "08782427-fbf4-4b77-ac90-6b0e76144027",
   "metadata": {},
   "outputs": [
    {
     "name": "stdout",
     "output_type": "stream",
     "text": [
      "    A   B   C\n",
      "1  10  15   5\n",
      "3  20  25  10\n",
      "5  30  35  15\n"
     ]
    }
   ],
   "source": [
    "#Q2.\n",
    "def reindex_with_increment(df):\n",
    "    new_index = pd.Index(range(1, len(df) * 2, 2))\n",
    "    df_reindexed = df.set_index(new_index)\n",
    "    return df_reindexed\n",
    "\n",
    "# Example DataFrame\n",
    "data = {'A': [10, 20, 30],\n",
    "        'B': [15, 25, 35],\n",
    "        'C': [5, 10, 15]}\n",
    "df = pd.DataFrame(data)\n",
    "\n",
    "# Re-indexing the DataFrame\n",
    "df_reindexed = reindex_with_increment(df)\n",
    "print(df_reindexed)\n"
   ]
  },
  {
   "cell_type": "code",
   "execution_count": 5,
   "id": "97aef32a-89fc-43d4-85ad-2d10038f6840",
   "metadata": {},
   "outputs": [
    {
     "name": "stdout",
     "output_type": "stream",
     "text": [
      "The sum of the first three values is 60.\n"
     ]
    }
   ],
   "source": [
    "#Q3.\n",
    "def getSum(df):\n",
    "    sum = 0\n",
    "    for i in range(0,3):\n",
    "        sum+=df['values'][i]\n",
    "    print(f\"The sum of the first three values is {sum}.\")\n",
    "\n",
    "# Example DataFrame\n",
    "data = {'values': [10, 20, 30, 15, 25, 35]}\n",
    "df = pd.DataFrame(data)\n",
    "\n",
    "getSum(df)"
   ]
  },
  {
   "cell_type": "code",
   "execution_count": 6,
   "id": "9d108746-bf76-40a0-97fe-8f9b64966c92",
   "metadata": {},
   "outputs": [
    {
     "name": "stdout",
     "output_type": "stream",
     "text": [
      "                            Text  word_count\n",
      "0  Hello, this is a sample text.           6\n",
      "1     Python programming is fun!           4\n",
      "2     Data analysis with Pandas.           4\n"
     ]
    }
   ],
   "source": [
    "#Q4.\n",
    "def no_of_words(df):\n",
    "    df['word_count'] = df['Text'].apply(lambda text : len(text.split()))\n",
    "    return df\n",
    "\n",
    "\n",
    "# Example DataFrame\n",
    "data = {'Text': [\"Hello, this is a sample text.\", \"Python programming is fun!\", \"Data analysis with Pandas.\"]}\n",
    "df = pd.DataFrame(data)\n",
    "\n",
    "print(no_of_words(df))"
   ]
  },
  {
   "cell_type": "code",
   "execution_count": 7,
   "id": "41c863ed-6bf5-438c-abb8-e95ada4b105f",
   "metadata": {},
   "outputs": [],
   "source": [
    "#Q5.\n",
    "# DataFrame.size() returns total number of elements i.e product of number of rows and columns in a DataFrame.\n",
    "# whereas DataFrame.shape() returns a tuple which contain the number of rows and columns in dataFrame respectively."
   ]
  },
  {
   "cell_type": "code",
   "execution_count": 8,
   "id": "c9211057-c860-43b3-89b9-32189b013b63",
   "metadata": {},
   "outputs": [],
   "source": [
    "#Q6.\n",
    "# read_excel() function of pandas is used to read excel file."
   ]
  },
  {
   "cell_type": "code",
   "execution_count": 9,
   "id": "a576f66f-8851-4432-bb59-cec645d76124",
   "metadata": {},
   "outputs": [
    {
     "name": "stdout",
     "output_type": "stream",
     "text": [
      "                    Email      username\n",
      "0     rayushkgp@gmail.com     rayushkgp\n",
      "1  ayushrajsbp2@gmail.com  ayushrajsbp2\n",
      "2  ayush.sm.sbp@gmail.com  ayush.sm.sbp\n"
     ]
    }
   ],
   "source": [
    "#Q7.\n",
    "def extract_username(df):\n",
    "    df['username'] = df['Email'].apply(lambda email:email.split(sep = '@')[0])\n",
    "    return df\n",
    "# Sample data\n",
    "data = {'Email': ['rayushkgp@gmail.com', 'ayushrajsbp2@gmail.com', 'ayush.sm.sbp@gmail.com']}\n",
    "df = pd.DataFrame(data)\n",
    "\n",
    "# Call the function to add the 'Username' column\n",
    "df = extract_username(df)\n",
    "\n",
    "print(df)"
   ]
  },
  {
   "cell_type": "code",
   "execution_count": 10,
   "id": "5d97ed46-7240-4e78-896d-22747b91e0e7",
   "metadata": {},
   "outputs": [
    {
     "name": "stdout",
     "output_type": "stream",
     "text": [
      "   A  B  C\n",
      "1  6  3  Y\n",
      "4  7  5  Q\n"
     ]
    }
   ],
   "source": [
    "#Q8.\n",
    "def filter_dataframe(df):\n",
    "    filtered_df = df[(df['A'] > 5) & (df['B'] < 10)]\n",
    "    return filtered_df\n",
    "# Sample data\n",
    "data = {'A': [4, 6, 8, 3, 7],\n",
    "        'B': [9, 3, 12, 2, 5],\n",
    "        'C': ['X', 'Y', 'Z', 'W', 'Q']}\n",
    "df = pd.DataFrame(data)\n",
    "\n",
    "# Call the function to filter rows\n",
    "filtered_result = filter_dataframe(df)\n",
    "\n",
    "print(filtered_result)"
   ]
  },
  {
   "cell_type": "code",
   "execution_count": 11,
   "id": "42893059-af28-430a-abf3-fb49e1fc3c7d",
   "metadata": {},
   "outputs": [
    {
     "name": "stdout",
     "output_type": "stream",
     "text": [
      "Mean: 20.0\n",
      "Median: 20.0\n",
      "Standard Deviation: 7.905694150420948\n"
     ]
    }
   ],
   "source": [
    "#Q9.\n",
    "def calculate_statistics(df):\n",
    "    mean = df['Values'].mean()\n",
    "    median = df['Values'].median()\n",
    "    std_dev = df['Values'].std()\n",
    "    \n",
    "    return mean, median, std_dev\n",
    "\n",
    "# Sample data\n",
    "data = {'Values': [10, 15, 20, 25, 30]}\n",
    "df = pd.DataFrame(data)\n",
    "\n",
    "# Call the function to calculate statistics\n",
    "mean, median, std_dev = calculate_statistics(df)\n",
    "\n",
    "print(\"Mean:\", mean)\n",
    "print(\"Median:\", median)\n",
    "print(\"Standard Deviation:\", std_dev)"
   ]
  },
  {
   "cell_type": "code",
   "execution_count": 12,
   "id": "a763d428-de39-45c6-a81c-a5fd3c441cc7",
   "metadata": {},
   "outputs": [
    {
     "name": "stdout",
     "output_type": "stream",
     "text": [
      "        Date  Sales  Moving Average\n",
      "0 2023-08-01    100             NaN\n",
      "1 2023-08-02    150             NaN\n",
      "2 2023-08-03    200             NaN\n",
      "3 2023-08-04    250             NaN\n",
      "4 2023-08-05    300             NaN\n",
      "5 2023-08-06    350             NaN\n",
      "6 2023-08-07    400           250.0\n",
      "7 2023-08-08    450           300.0\n"
     ]
    }
   ],
   "source": [
    "#Q10.\n",
    "def calculate_moving_average(df):\n",
    "    df['Moving Average'] = df['Sales'].rolling(7,min_periods = 7).mean()\n",
    "    return df\n",
    "# Sample data\n",
    "data = {'Date': ['2023-08-01', '2023-08-02', '2023-08-03', '2023-08-04', '2023-08-05', '2023-08-06', '2023-08-07', '2023-08-08'],\n",
    "        'Sales': [100, 150, 200, 250, 300, 350, 400,450]}\n",
    "df = pd.DataFrame(data)\n",
    "df['Date'] = pd.to_datetime(df['Date'])  # Convert 'Date' column to datetime format\n",
    "\n",
    "# Call the function to calculate moving average\n",
    "df = calculate_moving_average(df)\n",
    "print(df)"
   ]
  },
  {
   "cell_type": "code",
   "execution_count": 13,
   "id": "81bcf487-f8fa-4a5f-b1fb-23ab66ef10d4",
   "metadata": {},
   "outputs": [
    {
     "name": "stdout",
     "output_type": "stream",
     "text": [
      "        Date    Weekday\n",
      "0 2023-08-01    Tuesday\n",
      "1 2023-08-02  Wednesday\n",
      "2 2023-08-03   Thursday\n",
      "3 2023-08-04     Friday\n",
      "4 2023-08-05   Saturday\n",
      "5 2023-08-06     Sunday\n",
      "6 2023-08-07     Monday\n",
      "7 2023-08-08    Tuesday\n"
     ]
    }
   ],
   "source": [
    "#Q11.\n",
    "def get_weekday(df):\n",
    "    df['Weekday'] = df['Date'].dt.strftime('%A')\n",
    "    return df\n",
    "\n",
    "# Sample data\n",
    "data = {'Date': ['2023-08-01', '2023-08-02', '2023-08-03', '2023-08-04', '2023-08-05', '2023-08-06', '2023-08-07', '2023-08-08'],}\n",
    "df = pd.DataFrame(data)\n",
    "df['Date'] = pd.to_datetime(df['Date'])# Convert 'Date' column to datetime format\n",
    "\n",
    "# Sample data\n",
    "data = {'Date': ['2023-08-01', '2023-08-02', '2023-08-03', '2023-08-04', '2023-08-05', '2023-08-06', '2023-08-07', '2023-08-08'],}\n",
    "df = pd.DataFrame(data)\n",
    "df['Date'] = pd.to_datetime(df['Date'])  # Convert 'Date' column to datetime format\n",
    "\n",
    "df = get_weekday(df)\n",
    "print(df)"
   ]
  },
  {
   "cell_type": "code",
   "execution_count": 14,
   "id": "e8f3c656-17ec-48de-84a8-f1003ff968b5",
   "metadata": {},
   "outputs": [
    {
     "name": "stdout",
     "output_type": "stream",
     "text": [
      "         Date\n",
      "0  2023-01-15\n",
      "1  2023-01-25\n",
      "3  2023-01-05\n"
     ]
    }
   ],
   "source": [
    "#Q12.\n",
    "def filter_by_date_range(df):\n",
    "    filtered_df = df[(df['Date'] >  '2023-01-01') & (df['Date'] < '2023-01-31')]\n",
    "    return filtered_df\n",
    "# Sample data\n",
    "data = {'Date': ['2023-01-15', '2023-01-25', '2023-02-10', '2023-01-05']}\n",
    "df = pd.DataFrame(data)\n",
    "\n",
    "# Call the function to filter rows by date range\n",
    "filtered_result = filter_by_date_range(df)\n",
    "\n",
    "print(filtered_result)"
   ]
  },
  {
   "cell_type": "code",
   "execution_count": 15,
   "id": "885468ef-a733-41c1-9c9b-901bdc0fdf52",
   "metadata": {},
   "outputs": [],
   "source": [
    "#Q13.\n",
    "# The first and foremost necessary library that needs to be imported to use the basic functions of Pandas is the Pandas library itself.\n",
    "# import pandas"
   ]
  },
  {
   "cell_type": "code",
   "execution_count": null,
   "id": "eaeb6dc0-e7b9-4303-89b8-ab9d153fb050",
   "metadata": {},
   "outputs": [],
   "source": []
  }
 ],
 "metadata": {
  "kernelspec": {
   "display_name": "Python 3 (ipykernel)",
   "language": "python",
   "name": "python3"
  },
  "language_info": {
   "codemirror_mode": {
    "name": "ipython",
    "version": 3
   },
   "file_extension": ".py",
   "mimetype": "text/x-python",
   "name": "python",
   "nbconvert_exporter": "python",
   "pygments_lexer": "ipython3",
   "version": "3.10.8"
  }
 },
 "nbformat": 4,
 "nbformat_minor": 5
}
